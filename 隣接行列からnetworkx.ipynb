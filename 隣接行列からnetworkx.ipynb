{
 "cells": [
  {
   "cell_type": "code",
   "execution_count": null,
   "id": "4643336b",
   "metadata": {},
   "outputs": [],
   "source": [
    "from csv import reader\n",
    "#隣接行列、リスト変換\n",
    "#下にあなたの変換したい隣接行列が入っているcsvの名前を入力してください。\n",
    "#csvファイルには数字のみの隣接行列を想定しています。\n",
    "with open('HelloWorld.csv', 'r',encoding=\"utf-8_sig\") as csv_file:\n",
    "    csv_reader = reader(csv_file)\n",
    "    list_of_rows = list(csv_reader)\n",
    "list_graph = []\n",
    "for i, row in enumerate(list_of_rows):\n",
    "    #print(row)\n",
    "    add_list = []\n",
    "    for j, num in enumerate(row):\n",
    "        if num == '1':\n",
    "            add_list.append(j)\n",
    "    #print(add_list)\n",
    "    list_graph.append(add_list)\n",
    "#print(list_graph)\n",
    "\n",
    "\n",
    "#networkxの形へ変換\n",
    "edges = []\n",
    "for i, next_nodes in enumerate(list_graph):\n",
    "    for next_node in next_nodes:\n",
    "        edges.append((i, next_node))"
   ]
  }
 ],
 "metadata": {
  "kernelspec": {
   "display_name": "Python 3 (ipykernel)",
   "language": "python",
   "name": "python3"
  },
  "language_info": {
   "codemirror_mode": {
    "name": "ipython",
    "version": 3
   },
   "file_extension": ".py",
   "mimetype": "text/x-python",
   "name": "python",
   "nbconvert_exporter": "python",
   "pygments_lexer": "ipython3",
   "version": "3.9.12"
  }
 },
 "nbformat": 4,
 "nbformat_minor": 5
}
