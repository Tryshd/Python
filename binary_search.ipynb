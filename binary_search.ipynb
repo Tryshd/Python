{
 "cells": [
  {
   "cell_type": "code",
   "execution_count": 81,
   "id": "67ec96af",
   "metadata": {},
   "outputs": [],
   "source": [
    "from typing import List \n",
    "\n",
    "\n",
    "def binary_search(data :List[int], searching_number: int) -> int:\n",
    "    IndexLeft, IndexRight = 0, len(data) - 1\n",
    "    while IndexLeft <= IndexRight:\n",
    "        IndexCenter = (IndexLeft + IndexRight) // 2\n",
    "        if data[IndexCenter] == searching_number:\n",
    "            return IndexCenter\n",
    "        elif data[IndexCenter] < searching_number:\n",
    "            IndexLeft = IndexCenter + 1\n",
    "        else:\n",
    "            IndexRight = IndexCenter - 1\n",
    "    return -1"
   ]
  },
  {
   "cell_type": "code",
   "execution_count": 84,
   "id": "b2a2e830",
   "metadata": {},
   "outputs": [
    {
     "name": "stdout",
     "output_type": "stream",
     "text": [
      "[6, 20, 26, 43, 44, 64, 65, 65, 66, 78]\n"
     ]
    }
   ],
   "source": [
    "import random\n",
    "\n",
    "\n",
    "N = 100\n",
    "data = [random.randint(1, N) for i in range(10)]\n",
    "data.sort()\n",
    "print(data)"
   ]
  },
  {
   "cell_type": "code",
   "execution_count": 85,
   "id": "6860fb0e",
   "metadata": {},
   "outputs": [
    {
     "name": "stdout",
     "output_type": "stream",
     "text": [
      "探している数字はindex_number: 9に存在しています\n"
     ]
    }
   ],
   "source": [
    "number = 78\n",
    "IS_FALSE = binary_search(data, number)\n",
    "INDEX = -1\n",
    "if INDEX == IS_FALSE:\n",
    "    print('探している番号はdataにはありません')\n",
    "else:\n",
    "    print(f'探している数字はindex_number: {IS_FALSE}に存在しています')"
   ]
  },
  {
   "cell_type": "code",
   "execution_count": null,
   "id": "47e407c7",
   "metadata": {},
   "outputs": [],
   "source": []
  }
 ],
 "metadata": {
  "kernelspec": {
   "display_name": "Python 3 (ipykernel)",
   "language": "python",
   "name": "python3"
  },
  "language_info": {
   "codemirror_mode": {
    "name": "ipython",
    "version": 3
   },
   "file_extension": ".py",
   "mimetype": "text/x-python",
   "name": "python",
   "nbconvert_exporter": "python",
   "pygments_lexer": "ipython3",
   "version": "3.9.12"
  }
 },
 "nbformat": 4,
 "nbformat_minor": 5
}
