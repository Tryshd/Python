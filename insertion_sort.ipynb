{
 "cells": [
  {
   "cell_type": "code",
   "execution_count": 15,
   "id": "6f9240fb",
   "metadata": {},
   "outputs": [],
   "source": [
    "from typing import List\n",
    "\n",
    "\n",
    "def insertion_sort(data: List[int]) -> List[int]:\n",
    "    index = 0\n",
    "    while index < len(data)-1:\n",
    "        if data[index] <= data[index + 1]:\n",
    "            index += 1\n",
    "        else:\n",
    "            data[index], data[index+1] = data[index+1], data[index]\n",
    "            index -= 1\n",
    "            if index == -1:\n",
    "                index = 0\n",
    "    return data"
   ]
  },
  {
   "cell_type": "code",
   "execution_count": 16,
   "id": "ef2f5884",
   "metadata": {},
   "outputs": [
    {
     "name": "stdout",
     "output_type": "stream",
     "text": [
      "[0, 6, 7, 20, 34, 48]\n"
     ]
    }
   ],
   "source": [
    "if __name__ == '__main__':\n",
    "    data = [20, 48, 7, 0, 34, 6]\n",
    "    print(insertion_sort(data))"
   ]
  },
  {
   "cell_type": "code",
   "execution_count": null,
   "id": "a9f5ab5d",
   "metadata": {},
   "outputs": [],
   "source": []
  }
 ],
 "metadata": {
  "kernelspec": {
   "display_name": "Python 3 (ipykernel)",
   "language": "python",
   "name": "python3"
  },
  "language_info": {
   "codemirror_mode": {
    "name": "ipython",
    "version": 3
   },
   "file_extension": ".py",
   "mimetype": "text/x-python",
   "name": "python",
   "nbconvert_exporter": "python",
   "pygments_lexer": "ipython3",
   "version": "3.9.12"
  }
 },
 "nbformat": 4,
 "nbformat_minor": 5
}
