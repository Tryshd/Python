{
 "cells": [
  {
   "cell_type": "code",
   "execution_count": 10,
   "id": "48f6e576",
   "metadata": {},
   "outputs": [
    {
     "name": "stdout",
     "output_type": "stream",
     "text": [
      "2022-11-14 00:00:00\n",
      "2022-11-14 23:33:00\n",
      "2022-11-14 23:33:10\n"
     ]
    }
   ],
   "source": [
    "#直接生成\n",
    "import pandas as pd\n",
    "\n",
    "\n",
    "t1 = pd.Timestamp(2022,11,14)\n",
    "print(t1)\n",
    "\n",
    "t2 = pd.Timestamp(\"2022-11-14 23:33:00\")\n",
    "print(t2)\n",
    "\n",
    "t3 = pd.Timestamp(year = 2022, month = 11, day = 14, hour = 23, minute = 33, second = 10)\n",
    "print(t3)\n"
   ]
  },
  {
   "cell_type": "code",
   "execution_count": 20,
   "id": "c2ce470d",
   "metadata": {},
   "outputs": [
    {
     "name": "stdout",
     "output_type": "stream",
     "text": [
      "1970-01-01 00:00:10\n",
      "1970-01-31 00:00:00\n"
     ]
    }
   ],
   "source": [
    "#Unix時間\n",
    "t4 = pd.Timestamp(10,unit='s')\n",
    "print(t4)\n",
    "\n",
    "t5 = pd.Timestamp(30, unit = 'd')\n",
    "print(t5)"
   ]
  },
  {
   "cell_type": "code",
   "execution_count": 26,
   "id": "a2f9138e",
   "metadata": {},
   "outputs": [
    {
     "name": "stdout",
     "output_type": "stream",
     "text": [
      "2022-11-14 00:00:00\n",
      "2022-11-14 00:00:00\n",
      "2022-11-14 00:00:00\n"
     ]
    }
   ],
   "source": [
    "#リストやSeriesをまとめて変換\n",
    "t6 = pd.to_datetime('2022-11-14')\n",
    "print(t6)\n",
    "\n",
    "t7 = pd.to_datetime(\"11/14/2022\")\n",
    "print(t7)\n",
    "\n",
    "t8 = pd.to_datetime(\"2022年11月14日\", format = '%Y年%m月%d日')\n",
    "print(t8)"
   ]
  },
  {
   "cell_type": "code",
   "execution_count": null,
   "id": "44853fb3",
   "metadata": {},
   "outputs": [],
   "source": []
  }
 ],
 "metadata": {
  "kernelspec": {
   "display_name": "Python 3 (ipykernel)",
   "language": "python",
   "name": "python3"
  },
  "language_info": {
   "codemirror_mode": {
    "name": "ipython",
    "version": 3
   },
   "file_extension": ".py",
   "mimetype": "text/x-python",
   "name": "python",
   "nbconvert_exporter": "python",
   "pygments_lexer": "ipython3",
   "version": "3.9.12"
  }
 },
 "nbformat": 4,
 "nbformat_minor": 5
}
