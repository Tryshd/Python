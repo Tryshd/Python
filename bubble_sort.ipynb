{
 "cells": [
  {
   "cell_type": "code",
   "execution_count": 9,
   "id": "871898d8",
   "metadata": {},
   "outputs": [],
   "source": [
    "from typing import List\n",
    "\n",
    "\n",
    "def bubble_sort(data: List[int]) -> List[int]:\n",
    "    limit = len(data) - 1\n",
    "    for i in range(len(data) - 1):\n",
    "        for j in range(limit):\n",
    "            if data[j] > data[j + 1]:\n",
    "                tmp = data[j]\n",
    "                data[j] = data[j + 1]\n",
    "                data[j + 1] = tmp\n",
    "        limit -= 1\n",
    "    return data"
   ]
  },
  {
   "cell_type": "code",
   "execution_count": 10,
   "id": "9aeffbf9",
   "metadata": {},
   "outputs": [
    {
     "name": "stdout",
     "output_type": "stream",
     "text": [
      "[0, 1, 4, 5, 10, 20]\n"
     ]
    }
   ],
   "source": [
    "if __name__ == '__main__':\n",
    "    numbers = [1, 10, 5, 20, 4, 0]\n",
    "    print(bubble_sort(numbers))"
   ]
  },
  {
   "cell_type": "code",
   "execution_count": 11,
   "id": "65f63b6c",
   "metadata": {},
   "outputs": [
    {
     "name": "stdout",
     "output_type": "stream",
     "text": [
      "hello\n",
      "hello\n",
      "hello\n",
      "hello\n",
      "hello\n"
     ]
    }
   ],
   "source": [
    "for i in range(5):\n",
    "    print('hello')"
   ]
  },
  {
   "cell_type": "code",
   "execution_count": null,
   "id": "fc523793",
   "metadata": {},
   "outputs": [],
   "source": []
  }
 ],
 "metadata": {
  "kernelspec": {
   "display_name": "Python 3 (ipykernel)",
   "language": "python",
   "name": "python3"
  },
  "language_info": {
   "codemirror_mode": {
    "name": "ipython",
    "version": 3
   },
   "file_extension": ".py",
   "mimetype": "text/x-python",
   "name": "python",
   "nbconvert_exporter": "python",
   "pygments_lexer": "ipython3",
   "version": "3.9.12"
  }
 },
 "nbformat": 4,
 "nbformat_minor": 5
}
