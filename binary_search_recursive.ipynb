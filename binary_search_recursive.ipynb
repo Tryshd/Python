{
 "cells": [
  {
   "cell_type": "code",
   "execution_count": 16,
   "id": "4bf973c4",
   "metadata": {},
   "outputs": [],
   "source": [
    "from typing import List\n",
    "\n",
    "\n",
    "def binary_search(data: List[int], searching_number: int) -> int:\n",
    "    IndexLeft = 0\n",
    "    IndexRight = len(data) - 1\n",
    "    solve_Index = -1\n",
    "    def _binary_search(IndexLeft, IndexRight) -> int:\n",
    "        IndexCenter = (IndexLeft + IndexRight) // 2\n",
    "        if data[IndexCenter] == searching_number:\n",
    "            solve_Index = IndexCenter\n",
    "            return solve_Index\n",
    "        elif data[IndexCenter] < searching_number:\n",
    "            return _binary_search(IndexCenter + 1, IndexRight)\n",
    "        else:\n",
    "            return _binary_search(IndexLeft, IndexCenter - 1)\n",
    "    \n",
    "    return _binary_search(IndexLeft, IndexRight)"
   ]
  },
  {
   "cell_type": "code",
   "execution_count": 21,
   "id": "eb4aa415",
   "metadata": {},
   "outputs": [
    {
     "name": "stdout",
     "output_type": "stream",
     "text": [
      "[1, 2, 3, 4, 5, 20, 30, 50]\n",
      "6\n"
     ]
    }
   ],
   "source": [
    "data = [1, 2, 3, 5, 4, 20, 30, 50]\n",
    "data.sort()\n",
    "print(data)\n",
    "print(binary_search(data, 30))"
   ]
  },
  {
   "cell_type": "code",
   "execution_count": null,
   "id": "c33e11d4",
   "metadata": {},
   "outputs": [],
   "source": []
  }
 ],
 "metadata": {
  "kernelspec": {
   "display_name": "Python 3 (ipykernel)",
   "language": "python",
   "name": "python3"
  },
  "language_info": {
   "codemirror_mode": {
    "name": "ipython",
    "version": 3
   },
   "file_extension": ".py",
   "mimetype": "text/x-python",
   "name": "python",
   "nbconvert_exporter": "python",
   "pygments_lexer": "ipython3",
   "version": "3.9.12"
  }
 },
 "nbformat": 4,
 "nbformat_minor": 5
}
