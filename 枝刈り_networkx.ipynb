{
 "cells": [
  {
   "cell_type": "code",
   "execution_count": 1,
   "id": "1b4a6964",
   "metadata": {},
   "outputs": [
    {
     "name": "stdout",
     "output_type": "stream",
     "text": [
      "edges before removed\n",
      "[(0, 1), (0, 2), (1, 2)]\n",
      "edges after removed\n",
      "[(0, 1), (1, 2)]\n"
     ]
    }
   ],
   "source": [
    "#枝刈りの準備\n",
    "import networkx as nx\n",
    "from networkx.algorithms.connectivity import local_node_connectivity\n",
    "G = nx.DiGraph()\n",
    "nodes = [\n",
    "    0,\n",
    "    1,\n",
    "    2,\n",
    "]\n",
    "edges = [\n",
    "    (0, 1),\n",
    "    (0, 2),\n",
    "    (1, 2)\n",
    "]\n",
    "G.add_nodes_from(nodes)\n",
    "G.add_edges_from(edges)\n",
    "print(\"edges before removed\")\n",
    "print(edges)\n",
    "\n",
    "#枝削除\n",
    "remove_list = []\n",
    "for edge in edges:\n",
    "    judge = local_node_connectivity(G, edge[0], edge[1])\n",
    "    if judge != 1:\n",
    "        remove_list.append(edge)\n",
    "for route in remove_list:\n",
    "    edges.remove(route)\n",
    "print(\"edges after removed\")\n",
    "print(edges)"
   ]
  },
  {
   "cell_type": "code",
   "execution_count": null,
   "id": "71fcfc07",
   "metadata": {},
   "outputs": [],
   "source": []
  }
 ],
 "metadata": {
  "kernelspec": {
   "display_name": "Python 3 (ipykernel)",
   "language": "python",
   "name": "python3"
  },
  "language_info": {
   "codemirror_mode": {
    "name": "ipython",
    "version": 3
   },
   "file_extension": ".py",
   "mimetype": "text/x-python",
   "name": "python",
   "nbconvert_exporter": "python",
   "pygments_lexer": "ipython3",
   "version": "3.9.12"
  }
 },
 "nbformat": 4,
 "nbformat_minor": 5
}
