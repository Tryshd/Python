{
 "cells": [
  {
   "cell_type": "code",
   "execution_count": 9,
   "id": "85dd4bc8",
   "metadata": {},
   "outputs": [
    {
     "name": "stdout",
     "output_type": "stream",
     "text": [
      "[10, 20, 30, 33, 40, 50]\n"
     ]
    }
   ],
   "source": [
    "from typing import List\n",
    "\n",
    "\n",
    "def merge_sort(numbers: List[int]) -> List[int]:\n",
    "    if len(numbers) <= 1:\n",
    "        return numbers\n",
    "\n",
    "    center = len(numbers) // 2\n",
    "    left = numbers[:center]\n",
    "    right = numbers[center:]\n",
    "\n",
    "    merge_sort(left)\n",
    "    merge_sort(right)\n",
    "\n",
    "    i = j = k = 0\n",
    "    while i < len(left) and j < len(right):\n",
    "        if left[i] <= right[j]:\n",
    "            numbers[k] = left[i]\n",
    "            i += 1\n",
    "        else:\n",
    "            numbers[k] = right[j]\n",
    "            j += 1\n",
    "        k += 1\n",
    "\n",
    "    while i < len(left):\n",
    "        numbers[k] = left[i]\n",
    "        i += 1\n",
    "        k += 1\n",
    "\n",
    "    while j < len(right):\n",
    "        numbers[k] = right[j]\n",
    "        j += 1\n",
    "        k += 1\n",
    "\n",
    "    return numbers\n",
    "\n",
    "\n",
    "if __name__ == '__main__':\n",
    "    nums = [10, 20, 50, 40, 33, 30]\n",
    "    print(merge_sort(nums))\n"
   ]
  },
  {
   "cell_type": "code",
   "execution_count": null,
   "id": "7b15bddb",
   "metadata": {},
   "outputs": [],
   "source": []
  }
 ],
 "metadata": {
  "kernelspec": {
   "display_name": "Python 3 (ipykernel)",
   "language": "python",
   "name": "python3"
  },
  "language_info": {
   "codemirror_mode": {
    "name": "ipython",
    "version": 3
   },
   "file_extension": ".py",
   "mimetype": "text/x-python",
   "name": "python",
   "nbconvert_exporter": "python",
   "pygments_lexer": "ipython3",
   "version": "3.9.12"
  }
 },
 "nbformat": 4,
 "nbformat_minor": 5
}
