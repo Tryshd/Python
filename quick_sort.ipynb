{
 "cells": [
  {
   "cell_type": "code",
   "execution_count": 8,
   "id": "00987294",
   "metadata": {},
   "outputs": [],
   "source": [
    "def quick_sort(data):\n",
    "    if len(data) <= 1:\n",
    "        return data\n",
    "    small_part = [i for i in data[1:] if i <= data[0]]\n",
    "    large_part = [i for i in data[1:] if i >  data[0]]\n",
    "    \n",
    "    small_part = quick_sort(small_part)\n",
    "    large_part = quick_sort(large_part)\n",
    "    \n",
    "    return small + [data[0]] + large"
   ]
  },
  {
   "cell_type": "code",
   "execution_count": 9,
   "id": "5fc8d6f9",
   "metadata": {},
   "outputs": [
    {
     "ename": "NameError",
     "evalue": "name 'small' is not defined",
     "output_type": "error",
     "traceback": [
      "\u001b[1;31m---------------------------------------------------------------------------\u001b[0m",
      "\u001b[1;31mNameError\u001b[0m                                 Traceback (most recent call last)",
      "Input \u001b[1;32mIn [9]\u001b[0m, in \u001b[0;36m<cell line: 2>\u001b[1;34m()\u001b[0m\n\u001b[0;32m      1\u001b[0m data \u001b[38;5;241m=\u001b[39m [\u001b[38;5;241m9\u001b[39m, \u001b[38;5;241m6\u001b[39m, \u001b[38;5;241m8\u001b[39m, \u001b[38;5;241m2\u001b[39m, \u001b[38;5;241m5\u001b[39m]\n\u001b[1;32m----> 2\u001b[0m \u001b[38;5;28mprint\u001b[39m(\u001b[43mquick_sort\u001b[49m\u001b[43m(\u001b[49m\u001b[43mdata\u001b[49m\u001b[43m)\u001b[49m)\n",
      "Input \u001b[1;32mIn [8]\u001b[0m, in \u001b[0;36mquick_sort\u001b[1;34m(data)\u001b[0m\n\u001b[0;32m      4\u001b[0m small_part \u001b[38;5;241m=\u001b[39m [i \u001b[38;5;28;01mfor\u001b[39;00m i \u001b[38;5;129;01min\u001b[39;00m data[\u001b[38;5;241m1\u001b[39m:] \u001b[38;5;28;01mif\u001b[39;00m i \u001b[38;5;241m<\u001b[39m\u001b[38;5;241m=\u001b[39m data[\u001b[38;5;241m0\u001b[39m]]\n\u001b[0;32m      5\u001b[0m large_part \u001b[38;5;241m=\u001b[39m [i \u001b[38;5;28;01mfor\u001b[39;00m i \u001b[38;5;129;01min\u001b[39;00m data[\u001b[38;5;241m1\u001b[39m:] \u001b[38;5;28;01mif\u001b[39;00m i \u001b[38;5;241m>\u001b[39m  data[\u001b[38;5;241m0\u001b[39m]]\n\u001b[1;32m----> 7\u001b[0m small_part \u001b[38;5;241m=\u001b[39m \u001b[43mquick_sort\u001b[49m\u001b[43m(\u001b[49m\u001b[43msmall_part\u001b[49m\u001b[43m)\u001b[49m\n\u001b[0;32m      8\u001b[0m large_part \u001b[38;5;241m=\u001b[39m quick_sort(large_part)\n\u001b[0;32m     10\u001b[0m \u001b[38;5;28;01mreturn\u001b[39;00m small \u001b[38;5;241m+\u001b[39m [data[\u001b[38;5;241m0\u001b[39m]] \u001b[38;5;241m+\u001b[39m large\n",
      "Input \u001b[1;32mIn [8]\u001b[0m, in \u001b[0;36mquick_sort\u001b[1;34m(data)\u001b[0m\n\u001b[0;32m      4\u001b[0m small_part \u001b[38;5;241m=\u001b[39m [i \u001b[38;5;28;01mfor\u001b[39;00m i \u001b[38;5;129;01min\u001b[39;00m data[\u001b[38;5;241m1\u001b[39m:] \u001b[38;5;28;01mif\u001b[39;00m i \u001b[38;5;241m<\u001b[39m\u001b[38;5;241m=\u001b[39m data[\u001b[38;5;241m0\u001b[39m]]\n\u001b[0;32m      5\u001b[0m large_part \u001b[38;5;241m=\u001b[39m [i \u001b[38;5;28;01mfor\u001b[39;00m i \u001b[38;5;129;01min\u001b[39;00m data[\u001b[38;5;241m1\u001b[39m:] \u001b[38;5;28;01mif\u001b[39;00m i \u001b[38;5;241m>\u001b[39m  data[\u001b[38;5;241m0\u001b[39m]]\n\u001b[1;32m----> 7\u001b[0m small_part \u001b[38;5;241m=\u001b[39m \u001b[43mquick_sort\u001b[49m\u001b[43m(\u001b[49m\u001b[43msmall_part\u001b[49m\u001b[43m)\u001b[49m\n\u001b[0;32m      8\u001b[0m large_part \u001b[38;5;241m=\u001b[39m quick_sort(large_part)\n\u001b[0;32m     10\u001b[0m \u001b[38;5;28;01mreturn\u001b[39;00m small \u001b[38;5;241m+\u001b[39m [data[\u001b[38;5;241m0\u001b[39m]] \u001b[38;5;241m+\u001b[39m large\n",
      "Input \u001b[1;32mIn [8]\u001b[0m, in \u001b[0;36mquick_sort\u001b[1;34m(data)\u001b[0m\n\u001b[0;32m      7\u001b[0m small_part \u001b[38;5;241m=\u001b[39m quick_sort(small_part)\n\u001b[0;32m      8\u001b[0m large_part \u001b[38;5;241m=\u001b[39m quick_sort(large_part)\n\u001b[1;32m---> 10\u001b[0m \u001b[38;5;28;01mreturn\u001b[39;00m \u001b[43msmall\u001b[49m \u001b[38;5;241m+\u001b[39m [data[\u001b[38;5;241m0\u001b[39m]] \u001b[38;5;241m+\u001b[39m large\n",
      "\u001b[1;31mNameError\u001b[0m: name 'small' is not defined"
     ]
    }
   ],
   "source": [
    "data = [9, 6, 8, 2, 5]\n",
    "print(quick_sort(data))"
   ]
  },
  {
   "cell_type": "code",
   "execution_count": 7,
   "id": "a5d66e37",
   "metadata": {},
   "outputs": [
    {
     "name": "stdout",
     "output_type": "stream",
     "text": [
      "[] 1 [5, 2, 3, 8, 4]\n",
      "[2, 3, 4] 5 [8]\n",
      "[] 2 [3, 4]\n",
      "[] 3 [4]\n",
      "[1, 2, 3, 4, 5, 8]\n"
     ]
    }
   ],
   "source": [
    "data = [1, 5, 2, 3, 8, 4]\n",
    "print(quick_sort(data))"
   ]
  },
  {
   "cell_type": "code",
   "execution_count": null,
   "id": "faaf1e54",
   "metadata": {},
   "outputs": [],
   "source": []
  }
 ],
 "metadata": {
  "kernelspec": {
   "display_name": "Python 3 (ipykernel)",
   "language": "python",
   "name": "python3"
  },
  "language_info": {
   "codemirror_mode": {
    "name": "ipython",
    "version": 3
   },
   "file_extension": ".py",
   "mimetype": "text/x-python",
   "name": "python",
   "nbconvert_exporter": "python",
   "pygments_lexer": "ipython3",
   "version": "3.9.12"
  }
 },
 "nbformat": 4,
 "nbformat_minor": 5
}
