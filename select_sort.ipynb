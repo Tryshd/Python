{
 "cells": [
  {
   "cell_type": "code",
   "execution_count": 6,
   "id": "e97a50a0",
   "metadata": {},
   "outputs": [],
   "source": [
    "from typing import List\n",
    "\n",
    "\n",
    "def select_sort(data: List[int]) -> List[int]:\n",
    "    len_number = len(data)\n",
    "    for i in range(len_number):\n",
    "        MinIndex = i\n",
    "        for j in range(i, len_number):\n",
    "            if data[MinIndex] > data[j]:\n",
    "                MinIndex = j\n",
    "        data[i], data[MinIndex] = data[MinIndex], data[i]\n",
    "    return data"
   ]
  },
  {
   "cell_type": "code",
   "execution_count": 7,
   "id": "5dfa33fb",
   "metadata": {},
   "outputs": [
    {
     "name": "stdout",
     "output_type": "stream",
     "text": [
      "[3, 7, 10, 20, 50]\n"
     ]
    }
   ],
   "source": [
    "if __name__ =='__main__':\n",
    "    data = [10, 20, 3, 50, 7]\n",
    "    print(select_sort(data))"
   ]
  },
  {
   "cell_type": "code",
   "execution_count": null,
   "id": "dae56d4f",
   "metadata": {},
   "outputs": [],
   "source": []
  }
 ],
 "metadata": {
  "kernelspec": {
   "display_name": "Python 3 (ipykernel)",
   "language": "python",
   "name": "python3"
  },
  "language_info": {
   "codemirror_mode": {
    "name": "ipython",
    "version": 3
   },
   "file_extension": ".py",
   "mimetype": "text/x-python",
   "name": "python",
   "nbconvert_exporter": "python",
   "pygments_lexer": "ipython3",
   "version": "3.9.12"
  }
 },
 "nbformat": 4,
 "nbformat_minor": 5
}
