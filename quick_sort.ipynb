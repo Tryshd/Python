{
 "cells": [
  {
   "cell_type": "code",
   "execution_count": 5,
   "id": "e1f70668",
   "metadata": {},
   "outputs": [
    {
     "name": "stdout",
     "output_type": "stream",
     "text": [
      "[72, 50, 1, 47, 13]\n",
      "after sorted\n",
      "[1, 13, 47, 50, 72]\n"
     ]
    }
   ],
   "source": [
    "from typing import List\n",
    "\n",
    "\n",
    "def partition(numbers: List[int], low: int, high: int) -> int:\n",
    "    i = low - 1\n",
    "    pivot = numbers[high]\n",
    "    for j in range(low, high):\n",
    "        if numbers[j] <= pivot:\n",
    "            i += 1\n",
    "            numbers[i], numbers[j] = numbers[j], numbers[i]\n",
    "    numbers[i+1], numbers[high] = numbers[high], numbers[i+1]\n",
    "    return i+1\n",
    "\n",
    "\n",
    "def quick_sort(numbers: List[int]) -> List[int]:\n",
    "    def _quick_sort(numbers: List[int], low: int, high: int) -> None:\n",
    "        if low < high:\n",
    "            partition_index = partition(numbers, low, high)\n",
    "            _quick_sort(numbers, low, partition_index-1)\n",
    "            _quick_sort(numbers, partition_index+1, high)\n",
    "\n",
    "    _quick_sort(numbers, 0, len(numbers)-1)\n",
    "    return numbers\n",
    "\n",
    "\n",
    "if __name__ == '__main__':\n",
    "    import random\n",
    "    nums = [random.randint(0, 100) for _ in range(5)]\n",
    "    print(nums)\n",
    "    print(\"after sorted\")\n",
    "    print(quick_sort(nums))"
   ]
  },
  {
   "cell_type": "code",
   "execution_count": 6,
   "id": "8dee8d37",
   "metadata": {},
   "outputs": [
    {
     "name": "stdout",
     "output_type": "stream",
     "text": [
      "[97, 9, 66, 58, 17]\n",
      "after sorted\n",
      "[9, 17, 58, 66, 97]\n"
     ]
    }
   ],
   "source": [
    "import random\n",
    "\n",
    "\n",
    "nums = [random.randint(0, 100) for _ in range(5)]\n",
    "print(nums)\n",
    "print(\"after sorted\")\n",
    "print(quick_sort(nums))"
   ]
  },
  {
   "cell_type": "code",
   "execution_count": null,
   "id": "3aab9669",
   "metadata": {},
   "outputs": [],
   "source": []
  }
 ],
 "metadata": {
  "kernelspec": {
   "display_name": "Python 3 (ipykernel)",
   "language": "python",
   "name": "python3"
  },
  "language_info": {
   "codemirror_mode": {
    "name": "ipython",
    "version": 3
   },
   "file_extension": ".py",
   "mimetype": "text/x-python",
   "name": "python",
   "nbconvert_exporter": "python",
   "pygments_lexer": "ipython3",
   "version": "3.9.12"
  }
 },
 "nbformat": 4,
 "nbformat_minor": 5
}
